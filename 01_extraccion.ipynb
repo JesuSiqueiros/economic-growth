{
 "cells": [
  {
   "cell_type": "markdown",
   "metadata": {},
   "source": [
    "---\n",
    "title: \"Extracción de Indicadores de Banco de Información Económica\"\n",
    "author: \"Jesús Eduardo Siqueiros\"\n",
    "output: \n",
    "  html_document:\n",
    "    code_folding: hide\n",
    "    toc: true\n",
    "    toc_depth: 3\n",
    "    toc_float: true\n",
    "jupyter: python3\n",
    "---"
   ]
  },
  {
   "cell_type": "markdown",
   "metadata": {},
   "source": [
    "#### Extraccion de PIB por actividad economica para cada Estado de la Republica Méxicana.\n",
    "\n",
    "Utilizando la API del Banco de Información Económica, extraeremos el Producto Interno Bruto (PIB) por actividad económica para cada uno de los estados de la República Mexicana. El objetivo es analizar el crecimiento individual de cada estado. Además, \n",
    "\n",
    "implementaremos modelos de inteligencia artificial (IA) para realizar un análisis más exhaustivo y evaluar la capacidad actual de los modelos de lenguaje a gran escala (LLM) en la comprensión del comportamiento de la información."
   ]
  },
  {
   "cell_type": "markdown",
   "metadata": {},
   "source": [
    "#### Librerias"
   ]
  },
  {
   "cell_type": "code",
   "execution_count": 10,
   "metadata": {},
   "outputs": [],
   "source": [
    "# Importar datos\n",
    "import requests\n",
    "\n",
    "# Manipulacion de datos\n",
    "import pandas as pd\n",
    "import geopandas as gpd\n",
    "\n",
    "# Lectura de archivos config\n",
    "import configparser as cfg\n",
    "\n",
    "# Para manejar el tiempo\n",
    "import time\n",
    "\n",
    "# Manejar rutas\n",
    "import os\n",
    "import shutil\n",
    "\n",
    "# Obtener secret_key\n",
    "from dotenv import load_dotenv"
   ]
  },
  {
   "cell_type": "code",
   "execution_count": 3,
   "metadata": {},
   "outputs": [],
   "source": [
    "# Load environment variables from .env file\n",
    "load_dotenv()\n",
    "\n",
    "# Access the secret API key\n",
    "bie_api = os.getenv('SECRET_TOKEN')"
   ]
  },
  {
   "cell_type": "markdown",
   "metadata": {},
   "source": [
    "Estas librerias seran nuestras herramientas que utilizaremos para poder extraer nuestra informacion y hacer las transformaciones pertinentes a nuestro marco de datos"
   ]
  },
  {
   "cell_type": "code",
   "execution_count": 4,
   "metadata": {},
   "outputs": [],
   "source": [
    "# Nombre de los estados\n",
    "states = [\n",
    "    \"Aguascalientes\",\n",
    "    \"Baja California\",\n",
    "    \"Baja California Sur\",\n",
    "    \"Campeche\",\n",
    "    \"Coahuila de Zaragoza\",\n",
    "    \"Colima\",\n",
    "    \"Chiapas\",\n",
    "    \"Chihuahua\",\n",
    "    \"Ciudad de México\",\n",
    "    \"Durango\",\n",
    "    \"Guanajuato\",\n",
    "    \"Guerrero\",\n",
    "    \"Hidalgo\",\n",
    "    \"Jalisco\",\n",
    "    \"México\",\n",
    "    \"Michoacán de Ocampo\",\n",
    "    \"Morelos\",\n",
    "    \"Nayarit\",\n",
    "    \"Nuevo León\",\n",
    "    \"Oaxaca\",\n",
    "    \"Puebla\",\n",
    "    \"Querétaro\",\n",
    "    \"Quintana Roo\",\n",
    "    \"San Luis Potosí\",\n",
    "    \"Sinaloa\",\n",
    "    \"Sonora\",\n",
    "    \"Tabasco\",\n",
    "    \"Tamaulipas\",\n",
    "    \"Tlaxcala\",\n",
    "    \"Veracruz de Ignacio de la Llave\",\n",
    "    \"Yucatán\",\n",
    "    \"Zacatecas\"\n",
    "]\n",
    "\n",
    "# Crear diccionario para cada estado con las claves especificadas\n",
    "states_dict = {state: {\"Actividad Primaria\": None, \"Actividad Secundaria\": None, \"Actividad Terciaria\": None} for state in states}\n",
    "\n",
    "# Agrega el codigo correspondiente a cada estado\n",
    "for code, state in zip(range(756304, 757649, 42), states):\n",
    "    states_dict[state][\"Actividad Primaria\"] = code\n",
    "    states_dict[state][\"Actividad Secundaria\"] = states_dict[state][\"Actividad Primaria\"] + 6\n",
    "    states_dict[state][\"Actividad Terciaria\"] = states_dict[state][\"Actividad Secundaria\"] + 19"
   ]
  },
  {
   "cell_type": "markdown",
   "metadata": {},
   "source": [
    "Se define el nombre de cada uno de los Estados de la republica mexciana en una `list` para posteriormete meter genera un diccionario con:\n",
    "\n",
    "* Nombre del Estado de la republica.\n",
    "    1. Actividad Primaria\n",
    "    2. Actividad Secundaria \n",
    "    3. Actividad Terciaria\n",
    "\n",
    "La información que se almacena en cada una de las llaves es el código con el que se accede a la información desde la API del BIE."
   ]
  },
  {
   "cell_type": "code",
   "execution_count": 5,
   "metadata": {},
   "outputs": [
    {
     "name": "stdout",
     "output_type": "stream",
     "text": [
      "Directory 'data' has been created.\n"
     ]
    }
   ],
   "source": [
    "# Specify the directory path\n",
    "directory_path = 'data'\n",
    "\n",
    "# Delete the directory if it exists, along with its contents\n",
    "if os.path.exists(directory_path):\n",
    "    shutil.rmtree(directory_path)\n",
    "    print(f\"Directory '{directory_path}' has been deleted.\")\n",
    "\n",
    "# Create the directory if it does not exist\n",
    "os.makedirs(directory_path, exist_ok=True)\n",
    "print(f\"Directory '{directory_path}' has been created.\")\n"
   ]
  },
  {
   "cell_type": "markdown",
   "metadata": {},
   "source": [
    "#### Actividad Primaria"
   ]
  },
  {
   "cell_type": "code",
   "execution_count": 6,
   "metadata": {},
   "outputs": [
    {
     "name": "stdout",
     "output_type": "stream",
     "text": [
      "Estado de Aguascalientes almacenado correctamente\n",
      "Estado de Baja California almacenado correctamente\n",
      "Estado de Baja California Sur almacenado correctamente\n",
      "Estado de Campeche almacenado correctamente\n",
      "Estado de Coahuila de Zaragoza almacenado correctamente\n",
      "Estado de Colima almacenado correctamente\n",
      "Estado de Chiapas almacenado correctamente\n",
      "Estado de Chihuahua almacenado correctamente\n",
      "Estado de Ciudad de México almacenado correctamente\n",
      "Estado de Durango almacenado correctamente\n",
      "Estado de Guanajuato almacenado correctamente\n",
      "Estado de Guerrero almacenado correctamente\n",
      "Estado de Hidalgo almacenado correctamente\n",
      "Estado de Jalisco almacenado correctamente\n",
      "Estado de México almacenado correctamente\n",
      "Estado de Michoacán de Ocampo almacenado correctamente\n",
      "Estado de Morelos almacenado correctamente\n",
      "Estado de Nayarit almacenado correctamente\n",
      "Estado de Nuevo León almacenado correctamente\n",
      "Estado de Oaxaca almacenado correctamente\n",
      "Estado de Puebla almacenado correctamente\n",
      "Estado de Querétaro almacenado correctamente\n",
      "Estado de Quintana Roo almacenado correctamente\n",
      "Estado de San Luis Potosí almacenado correctamente\n",
      "Estado de Sinaloa almacenado correctamente\n",
      "Estado de Sonora almacenado correctamente\n",
      "Estado de Tabasco almacenado correctamente\n",
      "Estado de Tamaulipas almacenado correctamente\n",
      "Estado de Tlaxcala almacenado correctamente\n",
      "Estado de Veracruz de Ignacio de la Llave almacenado correctamente\n",
      "Estado de Yucatán almacenado correctamente\n",
      "Estado de Zacatecas almacenado correctamente\n"
     ]
    }
   ],
   "source": [
    "# Si la ruta existe, borrala para almacenar nuevos datos\n",
    "if os.path.exists(\"data/01_primaria.csv\") == True:\n",
    "    os.remove(\"data/01_primaria.csv\")\n",
    "\n",
    "for i in states_dict.keys():\n",
    "    url_primary =  f\"https://www.inegi.org.mx/app/api/indicadores/desarrolladores/jsonxml/INDICATOR/{states_dict[i][\"Actividad Primaria\"]}/es/0700/true/BIE/2.0/{bie_api}?type=json\"\n",
    "    responses_primary = requests.get(url_primary)\n",
    "    responses_primary.raise_for_status() # En caso de que la api falle, arroja un error\n",
    "\n",
    "    # Conversion de json a pd.DataFrame\n",
    "    data = responses_primary.json()[\"Series\"]\n",
    "    df = pd.json_normalize(data, \"OBSERVATIONS\")\n",
    "\n",
    "    # Seleccion de columnas y renombre\n",
    "    df = df[[\"OBS_VALUE\", \"TIME_PERIOD\"]].rename(columns={\"OBS_VALUE\": \"Actividad_primaria\",\n",
    "                                                          \"TIME_PERIOD\": \"Fecha\"})\n",
    "    # Se agrega el nombre del Estado\n",
    "    df[\"Estado\"] = i\n",
    "\n",
    "    # Almacenamiento de informacion\n",
    "    if os.path.exists(\"data/01_primaria.csv\") == True:\n",
    "        df.to_csv(\"data/01_primaria.csv\", header=False, index=False, mode=\"a\")\n",
    "    else:\n",
    "        df.to_csv(\"data/01_primaria.csv\", header=True, index=False, mode=\"a\")\n",
    "\n",
    "    #Puntos de control\n",
    "    print(f\"Estado de {i} almacenado correctamente\")\n",
    "\n",
    "    # Evitar rebotes de la API\n",
    "    time.sleep(5)"
   ]
  },
  {
   "cell_type": "markdown",
   "metadata": {},
   "source": [
    "#### Actividad Secundaria"
   ]
  },
  {
   "cell_type": "code",
   "execution_count": 7,
   "metadata": {},
   "outputs": [
    {
     "name": "stdout",
     "output_type": "stream",
     "text": [
      "Estado de Aguascalientes almacenado correctamente\n",
      "Estado de Baja California almacenado correctamente\n",
      "Estado de Baja California Sur almacenado correctamente\n",
      "Estado de Campeche almacenado correctamente\n",
      "Estado de Coahuila de Zaragoza almacenado correctamente\n",
      "Estado de Colima almacenado correctamente\n",
      "Estado de Chiapas almacenado correctamente\n",
      "Estado de Chihuahua almacenado correctamente\n",
      "Estado de Ciudad de México almacenado correctamente\n",
      "Estado de Durango almacenado correctamente\n",
      "Estado de Guanajuato almacenado correctamente\n",
      "Estado de Guerrero almacenado correctamente\n",
      "Estado de Hidalgo almacenado correctamente\n",
      "Estado de Jalisco almacenado correctamente\n",
      "Estado de México almacenado correctamente\n",
      "Estado de Michoacán de Ocampo almacenado correctamente\n",
      "Estado de Morelos almacenado correctamente\n",
      "Estado de Nayarit almacenado correctamente\n",
      "Estado de Nuevo León almacenado correctamente\n",
      "Estado de Oaxaca almacenado correctamente\n",
      "Estado de Puebla almacenado correctamente\n",
      "Estado de Querétaro almacenado correctamente\n",
      "Estado de Quintana Roo almacenado correctamente\n",
      "Estado de San Luis Potosí almacenado correctamente\n",
      "Estado de Sinaloa almacenado correctamente\n",
      "Estado de Sonora almacenado correctamente\n",
      "Estado de Tabasco almacenado correctamente\n",
      "Estado de Tamaulipas almacenado correctamente\n",
      "Estado de Tlaxcala almacenado correctamente\n",
      "Estado de Veracruz de Ignacio de la Llave almacenado correctamente\n",
      "Estado de Yucatán almacenado correctamente\n",
      "Estado de Zacatecas almacenado correctamente\n"
     ]
    }
   ],
   "source": [
    "df_actividad_secundaria= pd.DataFrame() # Se define un dataframe vacio para almacenar la informacion\n",
    "\n",
    "# Si la ruta existe, borrala para almacenar nuevos datos\n",
    "if os.path.exists(\"data/02_secundaria.csv\") == True:\n",
    "    os.remove(\"data/02_secundaria.csv\")\n",
    "\n",
    "for i in states_dict.keys():\n",
    "    url_secundary =  f\"https://www.inegi.org.mx/app/api/indicadores/desarrolladores/jsonxml/INDICATOR/{states_dict[i][\"Actividad Secundaria\"]}/es/0700/true/BIE/2.0/{bie_api}?type=json\"\n",
    "    responses_secundary = requests.get(url_secundary)\n",
    "    responses_secundary.raise_for_status() # En caso de que la api falle, arroja un error\n",
    "\n",
    "    # Conversion de json a pd.DataFrame\n",
    "    data = responses_secundary.json()[\"Series\"]\n",
    "    df = pd.json_normalize(data, \"OBSERVATIONS\")\n",
    "\n",
    "    # Seleccion de columnas y renombre\n",
    "    df = df[[\"OBS_VALUE\", \"TIME_PERIOD\"]].rename(columns={\"OBS_VALUE\": \"Actividad_secundaria\",\n",
    "                                                          \"TIME_PERIOD\": \"Fecha\"})\n",
    "    # Se agrega el nombre del Estado\n",
    "    df[\"Estado\"] = i\n",
    "\n",
    "    # Almacenamiento de informacion\n",
    "    if os.path.exists(\"data/02_secundaria.csv\") == True:\n",
    "        df.to_csv(\"data/02_secundaria.csv\", header=False, index=False, mode=\"a\")\n",
    "    else:\n",
    "        df.to_csv(\"data/02_secundaria.csv\", header=True, index=False, mode=\"a\")\n",
    "\n",
    "    #Puntos de control\n",
    "    print(f\"Estado de {i} almacenado correctamente\")\n",
    "\n",
    "    # Evitar rebotes de la API\n",
    "    time.sleep(5)"
   ]
  },
  {
   "cell_type": "markdown",
   "metadata": {},
   "source": [
    "#### Actividad Terciaria"
   ]
  },
  {
   "cell_type": "code",
   "execution_count": 8,
   "metadata": {},
   "outputs": [
    {
     "name": "stdout",
     "output_type": "stream",
     "text": [
      "Estado de Aguascalientes almacenado correctamente\n",
      "Estado de Baja California almacenado correctamente\n",
      "Estado de Baja California Sur almacenado correctamente\n",
      "Estado de Campeche almacenado correctamente\n",
      "Estado de Coahuila de Zaragoza almacenado correctamente\n",
      "Estado de Colima almacenado correctamente\n",
      "Estado de Chiapas almacenado correctamente\n",
      "Estado de Chihuahua almacenado correctamente\n",
      "Estado de Ciudad de México almacenado correctamente\n",
      "Estado de Durango almacenado correctamente\n",
      "Estado de Guanajuato almacenado correctamente\n",
      "Estado de Guerrero almacenado correctamente\n",
      "Estado de Hidalgo almacenado correctamente\n",
      "Estado de Jalisco almacenado correctamente\n",
      "Estado de México almacenado correctamente\n",
      "Estado de Michoacán de Ocampo almacenado correctamente\n",
      "Estado de Morelos almacenado correctamente\n",
      "Estado de Nayarit almacenado correctamente\n",
      "Estado de Nuevo León almacenado correctamente\n",
      "Estado de Oaxaca almacenado correctamente\n",
      "Estado de Puebla almacenado correctamente\n",
      "Estado de Querétaro almacenado correctamente\n",
      "Estado de Quintana Roo almacenado correctamente\n",
      "Estado de San Luis Potosí almacenado correctamente\n",
      "Estado de Sinaloa almacenado correctamente\n",
      "Estado de Sonora almacenado correctamente\n",
      "Estado de Tabasco almacenado correctamente\n",
      "Estado de Tamaulipas almacenado correctamente\n",
      "Estado de Tlaxcala almacenado correctamente\n",
      "Estado de Veracruz de Ignacio de la Llave almacenado correctamente\n",
      "Estado de Yucatán almacenado correctamente\n",
      "Estado de Zacatecas almacenado correctamente\n"
     ]
    }
   ],
   "source": [
    "# Si la ruta existe, borrala para almacenar nuevos datos\n",
    "if os.path.exists(\"data/03_terciaria.csv\") == True:\n",
    "    os.remove(\"data/03_terciaria.csv\")\n",
    "\n",
    "for i in states_dict.keys():\n",
    "    url_tertiary =  f\"https://www.inegi.org.mx/app/api/indicadores/desarrolladores/jsonxml/INDICATOR/{states_dict[i][\"Actividad Terciaria\"]}/es/0700/true/BIE/2.0/{bie_api}?type=json\"\n",
    "    responses_tertiary = requests.get(url_tertiary)\n",
    "    responses_tertiary.raise_for_status() # En caso de que la api falle, arroja un error\n",
    "\n",
    "    # Conversion de json a pd.DataFrame\n",
    "    data = responses_tertiary.json()[\"Series\"]\n",
    "    df = pd.json_normalize(data, \"OBSERVATIONS\")\n",
    "\n",
    "    # Seleccion de columnas y renombre\n",
    "    df = df[[\"OBS_VALUE\", \"TIME_PERIOD\"]].rename(columns={\"OBS_VALUE\": \"Actividad_terciaria\",\n",
    "                                                          \"TIME_PERIOD\": \"Fecha\"})\n",
    "    # Se agrega el nombre del Estado\n",
    "    df[\"Estado\"] = i\n",
    "\n",
    "    # Almacenamiento de informacion\n",
    "    if os.path.exists(\"data/03_terciaria.csv\") == True:\n",
    "        df.to_csv(\"data/03_terciaria.csv\", header=False, index=False, mode=\"a\")\n",
    "    else:\n",
    "        df.to_csv(\"data/03_terciaria.csv\", header=True, index=False, mode=\"a\")\n",
    "\n",
    "    #Puntos de control\n",
    "    print(f\"Estado de {i} almacenado correctamente\")\n",
    "\n",
    "    # Evitar rebotes de la API\n",
    "    time.sleep(5)"
   ]
  },
  {
   "cell_type": "code",
   "execution_count": null,
   "metadata": {},
   "outputs": [],
   "source": [
    "# Extracion de datos geospaciales de Mexico usando geopandas\n",
    "if os.path.exists(\"data/geo_data.geo\"):\n",
    "    pass\n",
    "else:\n",
    "    geo_data = gpd.read_file(\"https://gist.githubusercontent.com/walkerke/76cb8cc5f949432f9555/raw/363c297ce82a4dcb9bdf003d82aa4f64bc695cf1/mx.geojson\") # Extraccion\n",
    "    geo_data.to_csv(\"data/geo_data.geojson\", header=True, index=False) # Guardado de datos"
   ]
  },
  {
   "cell_type": "markdown",
   "metadata": {},
   "source": [
    "Una vez que los datos hayan sido extraidos y almacenados en archivos CSV, podemos avanzar a la siguente seccion, en la cual, se comenzará con el analisis "
   ]
  }
 ],
 "metadata": {
  "kernelspec": {
   "display_name": "actions",
   "language": "python",
   "name": "python3"
  },
  "language_info": {
   "codemirror_mode": {
    "name": "ipython",
    "version": 3
   },
   "file_extension": ".py",
   "mimetype": "text/x-python",
   "name": "python",
   "nbconvert_exporter": "python",
   "pygments_lexer": "ipython3",
   "version": "3.13.2"
  }
 },
 "nbformat": 4,
 "nbformat_minor": 2
}
