{
 "cells": [
  {
   "cell_type": "markdown",
   "metadata": {},
   "source": [
    "##### Libraries"
   ]
  },
  {
   "cell_type": "code",
   "execution_count": 55,
   "metadata": {},
   "outputs": [],
   "source": [
    "import pandas as pd\n",
    "import os"
   ]
  },
  {
   "cell_type": "markdown",
   "metadata": {},
   "source": [
    "#### Merge and cleaning"
   ]
  },
  {
   "cell_type": "code",
   "execution_count": 56,
   "metadata": {},
   "outputs": [],
   "source": [
    "list_dir= os.listdir('data')\n",
    "\n",
    "#Primary\n",
    "df1 = pd.read_csv(f'data/{list_dir[0]}')\n",
    "\n",
    "#Secondary\n",
    "df2 = pd.read_csv(f'data/{list_dir[1]}')\n",
    "\n",
    "#Tertiary\n",
    "df3 = pd.read_csv(f'data/{list_dir[2]}')\n",
    "\n",
    "# merge three activities into one dataframe\n",
    "df =  df1.merge(df2).merge(df3).rename(columns={\"Actividad_primaria\":\"Primaria\", \n",
    "                                                \"Actividad_secundaria\":\"Secundaria\",\n",
    "                                                \"Actividad_terciaria\":\"Terciaria\"})\n",
    "# Reorder columns\n",
    "df = df[[\"Fecha\", \"Estado\", \"Primaria\", \"Secundaria\",\"Terciaria\"]]\n"
   ]
  },
  {
   "cell_type": "markdown",
   "metadata": {},
   "source": [
    "#### Save data"
   ]
  },
  {
   "cell_type": "code",
   "execution_count": 57,
   "metadata": {},
   "outputs": [],
   "source": [
    "df.to_csv(\"data/merged_activities.csv\", header=True, index=False)"
   ]
  },
  {
   "cell_type": "code",
   "execution_count": null,
   "metadata": {},
   "outputs": [],
   "source": []
  }
 ],
 "metadata": {
  "kernelspec": {
   "display_name": "actions",
   "language": "python",
   "name": "python3"
  },
  "language_info": {
   "codemirror_mode": {
    "name": "ipython",
    "version": 3
   },
   "file_extension": ".py",
   "mimetype": "text/x-python",
   "name": "python",
   "nbconvert_exporter": "python",
   "pygments_lexer": "ipython3",
   "version": "3.13.2"
  }
 },
 "nbformat": 4,
 "nbformat_minor": 2
}
